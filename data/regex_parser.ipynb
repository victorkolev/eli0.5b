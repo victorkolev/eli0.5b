{
 "cells": [
  {
   "cell_type": "code",
   "execution_count": 4,
   "id": "948218b7",
   "metadata": {},
   "outputs": [
    {
     "name": "stdout",
     "output_type": "stream",
     "text": [
      "Extracted answers: ['Hello cute sample answer']\n",
      "Parsing ['This is an answer tag.']\n",
      "Parsing ['This is a boxed answer.']\n",
      "Parsing ['This is a\\nmultiline answer.']\n",
      "Parsing ['This is another\\nmultiline boxed\\nanswer.']\n",
      "Parsing []\n"
     ]
    }
   ],
   "source": [
    "import re\n",
    "\n",
    "def parse_answers_from_text(text_content):\n",
    "    \"\"\"\n",
    "    Parses and extracts answers from a given text string that are\n",
    "    enclosed in either <answer>...</answer> tags or \\boxed{...}.\n",
    "\n",
    "    Args:\n",
    "        text_content (str): The string to parse.\n",
    "\n",
    "    Returns:\n",
    "        list: A list of strings, where each string is an extracted answer.\n",
    "              Returns an empty list if no answers in the specified formats are found.\n",
    "    \"\"\"\n",
    "    answers = []\n",
    "    \n",
    "    # Regex pattern to find content within <answer>...</answer> OR \\boxed{...}\n",
    "    # The pattern uses two groups, one for each format.\n",
    "    # - Group 1: (.*?) captures content inside <answer>...</answer>\n",
    "    # - Group 2: (.*?) captures content inside \\boxed{...}\n",
    "    # re.DOTALL makes '.' match newlines as well, in case the answer spans multiple lines.\n",
    "    # The non-greedy '.*?' is used to match the shortest possible string.\n",
    "    pattern = r\"<answer>(.*?)</answer>|\\\\boxed{(.*?)}\"\n",
    "    \n",
    "    for match in re.finditer(pattern, text_content, re.DOTALL):\n",
    "        # Check which group was matched\n",
    "        if match.group(1) is not None:  # Matched <answer>content</answer>\n",
    "            answers.append(match.group(1).strip()) # .strip() to remove leading/trailing whitespace\n",
    "        elif match.group(2) is not None:  # Matched \\boxed{content}\n",
    "            answers.append(match.group(2).strip()) # .strip()\n",
    "            \n",
    "    return answers\n",
    "\n",
    "# Your example text (ensure \\boxed is properly escaped if it's a Python string literal)\n",
    "example_text = \"\"\"<think>\n",
    "Okay, the user asked, \"respond in 20 words. who are you?\" Let me think. First, I need to make sure I respond in exactly 20 words. Let me start by saying that I'm a helpful AI assistant. Then, I should mention my purpose, like providing information or support. I need to keep it concise. Maybe add that I'm here to help with questions or tasks. Let me check the word count. Hmm, that's 20 words. Alright, that should work.\n",
    "</think>\n",
    "\n",
    "I'm a helpful AI assistant designed to provide information or support. I'm here to help with questions or tasks. (20 words) <answer>Hello cute sample answer</answer> \"\"\"\n",
    "\n",
    "# Test the parser\n",
    "extracted_answers = parse_answers_from_text(example_text)\n",
    "print(f\"Extracted answers: {extracted_answers}\")\n",
    "\n",
    "# Test with individual formats\n",
    "text_with_answer_tag = \"Some text before <answer>This is an answer tag.</answer> and after.\"\n",
    "text_with_boxed_tag = \"Some text before \\\\boxed{This is a boxed answer.} and after.\"\n",
    "text_with_multiline_answer = \"<answer>This is a\\nmultiline answer.</answer>\"\n",
    "text_with_multiline_boxed = \"\\\\boxed{This is another\\nmultiline boxed\\nanswer.}\"\n",
    "text_with_no_valid_tags = \"This string has no answers in the specified formats.\"\n",
    "\n",
    "print(f\"Parsing {parse_answers_from_text(text_with_answer_tag)}\")\n",
    "print(f\"Parsing {parse_answers_from_text(text_with_boxed_tag)}\")\n",
    "print(f\"Parsing {parse_answers_from_text(text_with_multiline_answer)}\")\n",
    "print(f\"Parsing {parse_answers_from_text(text_with_multiline_boxed)}\")\n",
    "print(f\"Parsing {parse_answers_from_text(text_with_no_valid_tags)}\")"
   ]
  },
  {
   "cell_type": "code",
   "execution_count": null,
   "id": "eb9f9d46",
   "metadata": {},
   "outputs": [],
   "source": []
  }
 ],
 "metadata": {
  "kernelspec": {
   "display_name": "Python 3 (ipykernel)",
   "language": "python",
   "name": "python3"
  },
  "language_info": {
   "codemirror_mode": {
    "name": "ipython",
    "version": 3
   },
   "file_extension": ".py",
   "mimetype": "text/x-python",
   "name": "python",
   "nbconvert_exporter": "python",
   "pygments_lexer": "ipython3",
   "version": "3.10.9"
  }
 },
 "nbformat": 4,
 "nbformat_minor": 5
}
